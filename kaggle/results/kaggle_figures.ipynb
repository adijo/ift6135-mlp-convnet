{
 "cells": [
  {
   "cell_type": "code",
   "execution_count": null,
   "metadata": {},
   "outputs": [],
   "source": []
  },
  {
   "cell_type": "code",
   "execution_count": 70,
   "metadata": {},
   "outputs": [],
   "source": [
    "import re\n",
    "def read_result(result_file):\n",
    "    fileobj = open(result_file,\"r\")\n",
    "    last_epoch = 0\n",
    "    loss_counter = 0\n",
    "    accuracy_counter = 0\n",
    "    cumulated_loss= 0\n",
    "    cumulated_accuracy = 0\n",
    "\n",
    "    training_loss_by_epoch = []\n",
    "    training_accuracy_by_epoch = []\n",
    "    validation_loss_by_epoch = []\n",
    "    validation_accuracy_by_epoch = []\n",
    "    \n",
    "    for line in fileobj:\n",
    "        m = re.match(r\"Epoch (\\d+) validation accuracy= (\\d+\\.\\d+) validation loss= (\\d+\\.\\d+)\", line)\n",
    "        if m:\n",
    "            validation_epoch = int(m.group(1))\n",
    "            validation_accuracy = float(m.group(2))\n",
    "            validation_loss = float(m.group(3))\n",
    "            validation_loss_by_epoch.append(validation_loss)\n",
    "            validation_accuracy_by_epoch.append(validation_accuracy)\n",
    "            \n",
    "        m = re.match(r\"Epoch \\[(\\d+)/(\\d+)\\], Step \\[(\\d+)/(\\d+)\\], Loss: (\\d+\\.\\d+), Accuracy:(\\d+\\.\\d+)\", line)\n",
    "        if m:\n",
    "            epoch = int(m.group(1))\n",
    "            total_epoch = int(m.group(2))\n",
    "            step = int(m.group(3))\n",
    "            total_step = int(m.group(4))\n",
    "            loss = m.group(5)\n",
    "            accuracy = m.group(6)\n",
    "            loss_counter+=1\n",
    "            accuracy_counter+=1\n",
    "            if epoch!=last_epoch:\n",
    "                if last_epoch != 0:\n",
    "                    training_loss_by_epoch.append(cumulated_loss/loss_counter)\n",
    "                    training_accuracy_by_epoch.append(cumulated_accuracy / accuracy_counter)\n",
    "                last_epoch=epoch\n",
    "                loss_counter = 0\n",
    "                accuracy_counter = 0\n",
    "                cumulated_loss= 0\n",
    "                cumulated_accuracy = 0\n",
    "\n",
    "\n",
    "            cumulated_loss+=float(loss)\n",
    "            cumulated_accuracy+=float(accuracy)\n",
    "    #Last line:\n",
    "    loss_counter+=1\n",
    "    accuracy_counter+=1\n",
    "    print(cumulated_loss, loss_counter)\n",
    "    print(cumulated_accuracy, accuracy_counter)\n",
    "    training_loss_by_epoch.append(cumulated_loss/loss_counter)\n",
    "    training_accuracy_by_epoch.append(cumulated_accuracy / accuracy_counter)\n",
    "    return (training_loss_by_epoch, training_accuracy_by_epoch, validation_loss_by_epoch, validation_accuracy_by_epoch)"
   ]
  },
  {
   "cell_type": "markdown",
   "metadata": {},
   "source": [
    "# Training curves."
   ]
  },
  {
   "cell_type": "code",
   "execution_count": 71,
   "metadata": {},
   "outputs": [
    {
     "name": "stdout",
     "output_type": "stream",
     "text": [
      "2.5869 7\n",
      "5.97 7\n"
     ]
    }
   ],
   "source": [
    "training_loss_by_epoch, training_accuracy_by_epoch, validation_loss_by_epoch, validation_accuracy_by_epoch = read_result(\"2019-02-10-13_38_18.txt\")"
   ]
  },
  {
   "cell_type": "code",
   "execution_count": 72,
   "metadata": {},
   "outputs": [
    {
     "data": {
      "text/plain": [
       "50"
      ]
     },
     "execution_count": 72,
     "metadata": {},
     "output_type": "execute_result"
    }
   ],
   "source": [
    "%matplotlib inline\n",
    "\n",
    "import matplotlib\n",
    "import numpy as np\n",
    "import matplotlib.pyplot as plt\n",
    "\n",
    "len(training_loss_by_epoch)\n"
   ]
  },
  {
   "cell_type": "code",
   "execution_count": 73,
   "metadata": {},
   "outputs": [
    {
     "data": {
      "text/plain": [
       "50"
      ]
     },
     "execution_count": 73,
     "metadata": {},
     "output_type": "execute_result"
    }
   ],
   "source": [
    "len(validation_accuracy_by_epoch)"
   ]
  },
  {
   "cell_type": "code",
   "execution_count": 74,
   "metadata": {},
   "outputs": [
    {
     "data": {
      "text/plain": [
       "[<matplotlib.lines.Line2D at 0x7fc8aa448e10>]"
      ]
     },
     "execution_count": 74,
     "metadata": {},
     "output_type": "execute_result"
    },
    {
     "data": {
      "image/png": "[encoded data removed]",
      "text/plain": [
       "<Figure size 432x288 with 1 Axes>"
      ]
     },
     "metadata": {
      "needs_background": "light"
     },
     "output_type": "display_data"
    }
   ],
   "source": [
    "epochs = list(range(len(training_loss_by_epoch)))\n",
    "plt.plot(epochs, training_loss_by_epoch,\"b\")        # plot x and y using default line style and color\n",
    "plt.plot(epochs, training_accuracy_by_epoch,\"b\")\n",
    "plt.plot(epochs, validation_loss_by_epoch,\"r\")        # plot x and y using default line style and color\n",
    "plt.plot(epochs, validation_accuracy_by_epoch,\"r\")"
   ]
  },
  {
   "cell_type": "code",
   "execution_count": null,
   "metadata": {},
   "outputs": [],
   "source": []
  }
 ],
 "metadata": {
  "kernelspec": {
   "display_name": "Python 3",
   "language": "python",
   "name": "python3"
  },
  "language_info": {
   "codemirror_mode": {
    "name": "ipython",
    "version": 3
   },
   "file_extension": ".py",
   "mimetype": "text/x-python",
   "name": "python",
   "nbconvert_exporter": "python",
   "pygments_lexer": "ipython3",
   "version": "3.6.8"
  }
 },
 "nbformat": 4,
 "nbformat_minor": 2
}
