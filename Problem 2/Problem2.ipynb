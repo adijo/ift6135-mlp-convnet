{
 "cells": [
  {
   "cell_type": "markdown",
   "metadata": {},
   "source": [
    "# Part 2"
   ]
  },
  {
   "cell_type": "code",
   "execution_count": null,
   "metadata": {},
   "outputs": [],
   "source": [
    "#run the following if you use Google Colab\n",
    "#!pip3 install numpy torch torchvision\n",
    "#!pip install Pillow==4.0.0\n",
    "#!pip install PIL\n",
    "#!pip install image"
   ]
  },
  {
   "cell_type": "code",
   "execution_count": 45,
   "metadata": {},
   "outputs": [],
   "source": [
    "import torch\n",
    "from torchvision import models,transforms,datasets\n",
    "import torch.nn as nn\n",
    "import torch.nn.functional as F\n",
    "import torch.optim as optim\n",
    "import numpy as np\n",
    "import torchvision\n",
    "import matplotlib.pyplot as plt\n",
    "%matplotlib inline "
   ]
  },
  {
   "cell_type": "code",
   "execution_count": 46,
   "metadata": {},
   "outputs": [],
   "source": [
    "device=torch.device(\"cuda:0\" if torch.cuda.is_available() else \"cpu\")\n",
    "torch.cuda.manual_seed(42)"
   ]
  },
  {
   "cell_type": "code",
   "execution_count": 47,
   "metadata": {},
   "outputs": [],
   "source": [
    "train_loader = torch.utils.data.DataLoader(\n",
    "    datasets.MNIST(root=\".\",\n",
    "                   train=True,\n",
    "                   download=True,\n",
    "                   transform=transforms.Compose(\n",
    "                       [transforms.ToTensor(),\n",
    "                        transforms.Normalize((0.1307,), (0.3081,))]\n",
    "                   )\n",
    "                  ),\n",
    "    batch_size=64,\n",
    "    shuffle=True)"
   ]
  },
  {
   "cell_type": "code",
   "execution_count": null,
   "metadata": {},
   "outputs": [],
   "source": [
    "valid_loader = torch.utils.data.DataLoader(\n",
    "    datasets.MNIST(root=\".\",\n",
    "                   train=False,\n",
    "                   download=True,\n",
    "                   transform=transforms.Compose(\n",
    "                       [transforms.ToTensor(),\n",
    "                        transforms.Normalize((0.1307,), (0.3081,))]\n",
    "                   )\n",
    "                  ),\n",
    "    batch_size=64,\n",
    "    shuffle=True)"
   ]
  },
  {
   "cell_type": "code",
   "execution_count": 49,
   "metadata": {},
   "outputs": [],
   "source": [
    "data, labels = next(iter(train_loader))"
   ]
  },
  {
   "cell_type": "code",
   "execution_count": 50,
   "metadata": {},
   "outputs": [],
   "source": [
    "class ConvNet(nn.Module):\n",
    "    def __init__(self):\n",
    "        super(ConvNet,self).__init__()\n",
    "        self.conv1 = nn.Conv2d(1, 20, 5, 1)\n",
    "        self.conv2 = nn.Conv2d(20, 50, 5, 1)\n",
    "        self.fc_layer1 = nn.Linear(4*4*50, 500)\n",
    "        self.fc_layer2 = nn.Linear(500, 10)\n",
    "\n",
    "\n",
    "    def forward(self,x):\n",
    "        x = F.relu(self.conv1(x))\n",
    "        x = F.max_pool2d(x, 2, 2)\n",
    "        x = F.relu(self.conv2(x))\n",
    "        x = F.max_pool2d(x, 2, 2)\n",
    "        x = x.view(-1, 4*4*50)\n",
    "        x = F.relu(self.fc_layer1(x))\n",
    "        x = self.fc_layer2(x)\n",
    "        return F.log_softmax(x, dim=1)\n",
    "\n",
    "model = ConvNet().to(device)"
   ]
  },
  {
   "cell_type": "code",
   "execution_count": 51,
   "metadata": {},
   "outputs": [],
   "source": [
    "optimizer=optim.SGD(model.parameters(),lr=0.01)\n",
    "\n",
    "\n",
    "def train(epoch):\n",
    "    validation_error = []\n",
    "    training_error = []\n",
    "    for i in range(epoch):\n",
    "        for type_training in [\"train\",\"eval\"]:\n",
    "            loss_total=0\n",
    "            correct_total=0\n",
    "\n",
    "            if type_training == \"train\":\n",
    "                model.train()\n",
    "\n",
    "                for data, labels in train_loader:\n",
    "                    data, labels=data.to(device), labels.to(device)\n",
    "\n",
    "                    optimizer.zero_grad()\n",
    "                    output=model(data)\n",
    "                    pred=torch.argmax(output,1)\n",
    "                    loss=F.nll_loss(output,labels)\n",
    "\n",
    "                    loss.backward()\n",
    "                    optimizer.step()\n",
    "\n",
    "                    loss_total+=loss\n",
    "                    correct_total+=(pred == labels).sum()\n",
    "                    \n",
    "                train_accuracy = correct_total.item()/len(train_loader.dataset)\n",
    "\n",
    "                print(f\"Epoch is {i+1}\")\n",
    "                print(f\"Train Loss is {loss_total.item()}\")\n",
    "                print(f\"Train Accuracy is {train_accuracy}\")\n",
    "                \n",
    "                training_error.append(1-train_accuracy)\n",
    "\n",
    "\n",
    "            if type_training == \"eval\":\n",
    "                model.eval()\n",
    "\n",
    "                for data, labels in valid_loader:\n",
    "                    data, labels=data.to(device), labels.to(device)\n",
    "\n",
    "                    optimizer.zero_grad()\n",
    "\n",
    "                    with torch.no_grad():\n",
    "                        output=model(data)\n",
    "                        pred=torch.argmax(output,1)\n",
    "                        loss=F.nll_loss(output,labels)\n",
    "\n",
    "                        loss_total+=loss\n",
    "                        correct_total+=(pred == labels).sum()\n",
    "\n",
    "                Eval_accuracy = correct_total.item()/len(valid_loader.dataset)\n",
    "                \n",
    "                print(f\"Eval Loss is {loss_total.item()}\")\n",
    "                print(f\"Eval Accuracy is {Eval_accuracy}\")              \n",
    "                \n",
    "                validation_error.append(1-Eval_accuracy)\n",
    "\n",
    "\n",
    "    return model, training_error, validation_error"
   ]
  },
  {
   "cell_type": "code",
   "execution_count": 52,
   "metadata": {},
   "outputs": [
    {
     "name": "stdout",
     "output_type": "stream",
     "text": [
      "Epoch is 1\n",
      "Train Loss is 427.62158203125\n",
      "Train Accuracy is 0.8791333333333333\n",
      "Eval Loss is 27.42966651916504\n",
      "Eval Accuracy is 0.9459\n",
      "Epoch is 2\n",
      "Train Loss is 121.4101791381836\n",
      "Train Accuracy is 0.9620833333333333\n",
      "Eval Loss is 20.94454574584961\n",
      "Eval Accuracy is 0.9556\n",
      "Epoch is 3\n",
      "Train Loss is 84.63594055175781\n",
      "Train Accuracy is 0.97355\n",
      "Eval Loss is 10.239175796508789\n",
      "Eval Accuracy is 0.9799\n",
      "Epoch is 4\n",
      "Train Loss is 66.962158203125\n",
      "Train Accuracy is 0.9781333333333333\n",
      "Eval Loss is 8.18886947631836\n",
      "Eval Accuracy is 0.9852\n",
      "Epoch is 5\n",
      "Train Loss is 57.086952209472656\n",
      "Train Accuracy is 0.98155\n",
      "Eval Loss is 10.461355209350586\n",
      "Eval Accuracy is 0.9794\n",
      "Epoch is 6\n",
      "Train Loss is 49.51540756225586\n",
      "Train Accuracy is 0.9844\n",
      "Eval Loss is 8.170038223266602\n",
      "Eval Accuracy is 0.9826\n",
      "Epoch is 7\n",
      "Train Loss is 43.81359100341797\n",
      "Train Accuracy is 0.98615\n",
      "Eval Loss is 7.530579566955566\n",
      "Eval Accuracy is 0.9855\n",
      "Epoch is 8\n",
      "Train Loss is 39.242469787597656\n",
      "Train Accuracy is 0.98745\n",
      "Eval Loss is 6.309435844421387\n",
      "Eval Accuracy is 0.987\n",
      "Epoch is 9\n",
      "Train Loss is 35.79945755004883\n",
      "Train Accuracy is 0.9885666666666667\n",
      "Eval Loss is 7.671539306640625\n",
      "Eval Accuracy is 0.9846\n",
      "Epoch is 10\n",
      "Train Loss is 32.330291748046875\n",
      "Train Accuracy is 0.9895666666666667\n",
      "Eval Loss is 5.36033821105957\n",
      "Eval Accuracy is 0.9879\n"
     ]
    }
   ],
   "source": [
    "model, training_error, validation_error = train(10)"
   ]
  },
  {
   "cell_type": "markdown",
   "metadata": {},
   "source": [
    "#### Plot the train and valid errors at the end of each epoch for the model."
   ]
  },
  {
   "cell_type": "code",
   "execution_count": 53,
   "metadata": {},
   "outputs": [
    {
     "data": {
      "text/plain": [
       "Text(0,0.5,'Error')"
      ]
     },
     "execution_count": 53,
     "metadata": {},
     "output_type": "execute_result"
    },
    {
     "data": {
      "image/png": "[encoded data removed]",
      "text/plain": [
       "<Figure size 432x288 with 1 Axes>"
      ]
     },
     "metadata": {
      "needs_background": "light"
     },
     "output_type": "display_data"
    }
   ],
   "source": [
    "plt.plot(np.arange(1,len(training_error)+1),training_error)\n",
    "plt.plot(np.arange(1,len(training_error)+1),validation_error)\n",
    "plt.legend([\"Training Error\",\"Validation Error\"])\n",
    "plt.xlabel(\"Epoch\")\n",
    "plt.ylabel(\"Error\")"
   ]
  },
  {
   "cell_type": "markdown",
   "metadata": {},
   "source": [
    "#### 1. Come up with a CNN architecture with more or less similar number of parameters as MLP trained in Problem 1 and describe it"
   ]
  },
  {
   "cell_type": "markdown",
   "metadata": {},
   "source": [
    "The input data is 28 x 28\n",
    "We used a batch size of 64\n",
    "\n",
    "The first layer is composed of a convolution with a square kernel of size 5, a stride of 1, no padding and 20 output channel (100 parameters and the output is 20x24x24).\n",
    "This is follow by a max pooling layer with a kernel of size 2 and a stride of 2 (no overlapping) (output is 20x12x212)\n",
    "with a ReLU acctivation fonction\n",
    "\n",
    "After there is another convolution with a square kernel of size 5, a stride of 1, no padding and 50 output channel (5000 parameters and the output is 50x8x8).\n",
    "This is follow by a max pooling layer with a kernel of size 2 and a stride of 2 (no overlapping) (output is 50x4x4)\n",
    "with a ReLU acctivation fonction\n",
    "\n",
    "After there is a first fully connected hidden layer with 500 hidden units (400 000 parameters) and a ReLU acctivation fonction\n",
    "\n",
    "Finally the output layer is a fully connected layer with 10 hidden units and a softmax activation (5000 parameters)\n",
    "\n",
    "The model has 410 100 parameters in total.\n",
    "\n"
   ]
  },
  {
   "cell_type": "markdown",
   "metadata": {},
   "source": [
    "#### 2. Compare the performances of CNN vs MLP. Comment."
   ]
  },
  {
   "cell_type": "markdown",
   "metadata": {},
   "source": [
    "The CNN has a much stronger performance on both the training and validation data. The CNN has 1.04\\% on the training, 1.21\\% on the validation error after 10 epoch vs 6.35\\%  on the validation error for the MLP after 10 epoch with the Glorot initialisation. The CNN also outperform the best mlp model find with hyperparamater search which has 2.5\\% errors on validation. CNN is design to perform well on image. It uses local connectivity and parameter sharing to reduce the number of parameters to learn. CNN also uses pooling to reduce the number of hidden units in a hidden layer and makes the algorithm invariant to small translations in the sample, which is a desirable characteristic of an image classifier. We see that these design characteristics make a difference when we compared the CNN result with the MLP result."
   ]
  }
 ],
 "metadata": {
  "kernelspec": {
   "display_name": "Python 3",
   "language": "python",
   "name": "python3"
  },
  "language_info": {
   "codemirror_mode": {
    "name": "ipython",
    "version": 3
   },
   "file_extension": ".py",
   "mimetype": "text/x-python",
   "name": "python",
   "nbconvert_exporter": "python",
   "pygments_lexer": "ipython3",
   "version": "3.7.0"
  }
 },
 "nbformat": 4,
 "nbformat_minor": 2
}
